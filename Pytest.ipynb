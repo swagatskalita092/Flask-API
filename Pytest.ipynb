{
  "nbformat": 4,
  "nbformat_minor": 0,
  "metadata": {
    "colab": {
      "provenance": [],
      "authorship_tag": "ABX9TyMJZs3dhJzqis8u2M4uCcif",
      "include_colab_link": true
    },
    "kernelspec": {
      "name": "python3",
      "display_name": "Python 3"
    },
    "language_info": {
      "name": "python"
    }
  },
  "cells": [
    {
      "cell_type": "markdown",
      "metadata": {
        "id": "view-in-github",
        "colab_type": "text"
      },
      "source": [
        "<a href=\"https://colab.research.google.com/github/swagatskalita092/Flask-API/blob/main/Pytest.ipynb\" target=\"_parent\"><img src=\"https://colab.research.google.com/assets/colab-badge.svg\" alt=\"Open In Colab\"/></a>"
      ]
    },
    {
      "cell_type": "code",
      "execution_count": null,
      "metadata": {
        "id": "eLttPIE8Gtlq"
      },
      "outputs": [],
      "source": [
        "import pytest\n",
        "import requests\n",
        "\n",
        "NGROK_URL = \"http://127.0.0.1:5000\"\n",
        "\n",
        "@pytest.fixture\n",
        "def sample_data():\n",
        "    \"\"\"Provide sample issue text for testing.\"\"\"\n",
        "    return {\"text\": \"Fix authentication issue in login module\"}\n",
        "\n",
        "def test_predict(sample_data):\n",
        "    \"\"\"Test the /api/predict endpoint\"\"\"\n",
        "    url = f\"{NGROK_URL}/api/predict\"\n",
        "    response = requests.post(url, json=sample_data)\n",
        "\n",
        "    assert response.status_code == 200\n",
        "    json_response = response.json()\n",
        "    assert \"id\" in json_response\n",
        "    assert \"predicted_label\" in json_response\n",
        "    assert isinstance(json_response[\"predicted_label\"], str)\n",
        "\n",
        "def test_correct():\n",
        "    \"\"\"Test the /api/correct endpoint\"\"\"\n",
        "    # First, make a prediction\n",
        "    predict_url = f\"{NGROK_URL}/api/predict\"\n",
        "    predict_response = requests.post(predict_url, json={\"text\": \"Fix bug in user authentication\"})\n",
        "    predict_data = predict_response.json()\n",
        "    prediction_id = predict_data[\"id\"]\n",
        "\n",
        "    # Then, send a correction request\n",
        "    correct_url = f\"{NGROK_URL}/api/correct\"\n",
        "    correction_data = {\"id\": prediction_id, \"correct_label\": \"enhancement\"}\n",
        "    correct_response = requests.post(correct_url, json=correction_data)\n",
        "\n",
        "    assert correct_response.status_code == 200\n",
        "    assert correct_response.json() == {\"message\": \"Correction saved successfully\"}\n"
      ]
    }
  ]
}