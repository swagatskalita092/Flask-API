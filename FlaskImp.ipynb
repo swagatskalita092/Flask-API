{
  "nbformat": 4,
  "nbformat_minor": 0,
  "metadata": {
    "colab": {
      "provenance": [],
      "authorship_tag": "ABX9TyNa1qUdWkfz+RFVDTbmjuPp",
      "include_colab_link": true
    },
    "kernelspec": {
      "name": "python3",
      "display_name": "Python 3"
    },
    "language_info": {
      "name": "python"
    }
  },
  "cells": [
    {
      "cell_type": "markdown",
      "metadata": {
        "id": "view-in-github",
        "colab_type": "text"
      },
      "source": [
        "<a href=\"https://colab.research.google.com/github/swagatskalita092/Flask-API/blob/main/FlaskImp.ipynb\" target=\"_parent\"><img src=\"https://colab.research.google.com/assets/colab-badge.svg\" alt=\"Open In Colab\"/></a>"
      ]
    },
    {
      "cell_type": "code",
      "execution_count": 1,
      "metadata": {
        "colab": {
          "base_uri": "https://localhost:8080/"
        },
        "id": "EvlOXZFvm5RU",
        "outputId": "0e3f16e7-a6d1-4e34-d0d0-5a0c6e7dfcbf"
      },
      "outputs": [
        {
          "output_type": "stream",
          "name": "stdout",
          "text": [
            "Requirement already satisfied: flask in /usr/local/lib/python3.11/dist-packages (3.1.0)\n",
            "Requirement already satisfied: Werkzeug>=3.1 in /usr/local/lib/python3.11/dist-packages (from flask) (3.1.3)\n",
            "Requirement already satisfied: Jinja2>=3.1.2 in /usr/local/lib/python3.11/dist-packages (from flask) (3.1.5)\n",
            "Requirement already satisfied: itsdangerous>=2.2 in /usr/local/lib/python3.11/dist-packages (from flask) (2.2.0)\n",
            "Requirement already satisfied: click>=8.1.3 in /usr/local/lib/python3.11/dist-packages (from flask) (8.1.8)\n",
            "Requirement already satisfied: blinker>=1.9 in /usr/local/lib/python3.11/dist-packages (from flask) (1.9.0)\n",
            "Requirement already satisfied: MarkupSafe>=2.0 in /usr/local/lib/python3.11/dist-packages (from Jinja2>=3.1.2->flask) (3.0.2)\n",
            "Requirement already satisfied: flask_sqlalchemy in /usr/local/lib/python3.11/dist-packages (3.1.1)\n",
            "Requirement already satisfied: flask>=2.2.5 in /usr/local/lib/python3.11/dist-packages (from flask_sqlalchemy) (3.1.0)\n",
            "Requirement already satisfied: sqlalchemy>=2.0.16 in /usr/local/lib/python3.11/dist-packages (from flask_sqlalchemy) (2.0.37)\n",
            "Requirement already satisfied: Werkzeug>=3.1 in /usr/local/lib/python3.11/dist-packages (from flask>=2.2.5->flask_sqlalchemy) (3.1.3)\n",
            "Requirement already satisfied: Jinja2>=3.1.2 in /usr/local/lib/python3.11/dist-packages (from flask>=2.2.5->flask_sqlalchemy) (3.1.5)\n",
            "Requirement already satisfied: itsdangerous>=2.2 in /usr/local/lib/python3.11/dist-packages (from flask>=2.2.5->flask_sqlalchemy) (2.2.0)\n",
            "Requirement already satisfied: click>=8.1.3 in /usr/local/lib/python3.11/dist-packages (from flask>=2.2.5->flask_sqlalchemy) (8.1.8)\n",
            "Requirement already satisfied: blinker>=1.9 in /usr/local/lib/python3.11/dist-packages (from flask>=2.2.5->flask_sqlalchemy) (1.9.0)\n",
            "Requirement already satisfied: greenlet!=0.4.17 in /usr/local/lib/python3.11/dist-packages (from sqlalchemy>=2.0.16->flask_sqlalchemy) (3.1.1)\n",
            "Requirement already satisfied: typing-extensions>=4.6.0 in /usr/local/lib/python3.11/dist-packages (from sqlalchemy>=2.0.16->flask_sqlalchemy) (4.12.2)\n",
            "Requirement already satisfied: MarkupSafe>=2.0 in /usr/local/lib/python3.11/dist-packages (from Jinja2>=3.1.2->flask>=2.2.5->flask_sqlalchemy) (3.0.2)\n",
            "Requirement already satisfied: joblib in /usr/local/lib/python3.11/dist-packages (1.4.2)\n",
            "Requirement already satisfied: nltk in /usr/local/lib/python3.11/dist-packages (3.9.1)\n",
            "Requirement already satisfied: click in /usr/local/lib/python3.11/dist-packages (from nltk) (8.1.8)\n",
            "Requirement already satisfied: joblib in /usr/local/lib/python3.11/dist-packages (from nltk) (1.4.2)\n",
            "Requirement already satisfied: regex>=2021.8.3 in /usr/local/lib/python3.11/dist-packages (from nltk) (2024.11.6)\n",
            "Requirement already satisfied: tqdm in /usr/local/lib/python3.11/dist-packages (from nltk) (4.67.1)\n"
          ]
        }
      ],
      "source": [
        "!pip install flask\n",
        "!pip install flask_sqlalchemy\n",
        "!pip install joblib\n",
        "!pip install nltk\n"
      ]
    },
    {
      "cell_type": "code",
      "source": [
        "!pip install pyngrok\n",
        "!pip install flask-ngrok\n",
        "!ngrok config add-authtoken 2roCSQYQS3Q9iZsAQ8woEaITLcx_5EKEwNKJ4oFZFG4ZyBjPh\n"
      ],
      "metadata": {
        "colab": {
          "base_uri": "https://localhost:8080/"
        },
        "id": "RV8_LwBnqJFM",
        "outputId": "1cc7894d-bc5f-495b-b239-9bb93b84b0d7"
      },
      "execution_count": 2,
      "outputs": [
        {
          "output_type": "stream",
          "name": "stdout",
          "text": [
            "Requirement already satisfied: pyngrok in /usr/local/lib/python3.11/dist-packages (7.2.3)\n",
            "Requirement already satisfied: PyYAML>=5.1 in /usr/local/lib/python3.11/dist-packages (from pyngrok) (6.0.2)\n",
            "Requirement already satisfied: flask-ngrok in /usr/local/lib/python3.11/dist-packages (0.0.25)\n",
            "Requirement already satisfied: Flask>=0.8 in /usr/local/lib/python3.11/dist-packages (from flask-ngrok) (3.1.0)\n",
            "Requirement already satisfied: requests in /usr/local/lib/python3.11/dist-packages (from flask-ngrok) (2.32.3)\n",
            "Requirement already satisfied: Werkzeug>=3.1 in /usr/local/lib/python3.11/dist-packages (from Flask>=0.8->flask-ngrok) (3.1.3)\n",
            "Requirement already satisfied: Jinja2>=3.1.2 in /usr/local/lib/python3.11/dist-packages (from Flask>=0.8->flask-ngrok) (3.1.5)\n",
            "Requirement already satisfied: itsdangerous>=2.2 in /usr/local/lib/python3.11/dist-packages (from Flask>=0.8->flask-ngrok) (2.2.0)\n",
            "Requirement already satisfied: click>=8.1.3 in /usr/local/lib/python3.11/dist-packages (from Flask>=0.8->flask-ngrok) (8.1.8)\n",
            "Requirement already satisfied: blinker>=1.9 in /usr/local/lib/python3.11/dist-packages (from Flask>=0.8->flask-ngrok) (1.9.0)\n",
            "Requirement already satisfied: charset-normalizer<4,>=2 in /usr/local/lib/python3.11/dist-packages (from requests->flask-ngrok) (3.4.1)\n",
            "Requirement already satisfied: idna<4,>=2.5 in /usr/local/lib/python3.11/dist-packages (from requests->flask-ngrok) (3.10)\n",
            "Requirement already satisfied: urllib3<3,>=1.21.1 in /usr/local/lib/python3.11/dist-packages (from requests->flask-ngrok) (2.3.0)\n",
            "Requirement already satisfied: certifi>=2017.4.17 in /usr/local/lib/python3.11/dist-packages (from requests->flask-ngrok) (2024.12.14)\n",
            "Requirement already satisfied: MarkupSafe>=2.0 in /usr/local/lib/python3.11/dist-packages (from Jinja2>=3.1.2->Flask>=0.8->flask-ngrok) (3.0.2)\n",
            "Authtoken saved to configuration file: /root/.config/ngrok/ngrok.yml\n"
          ]
        }
      ]
    },
    {
      "cell_type": "code",
      "source": [
        "from flask import Flask, request, jsonify\n",
        "from flask_sqlalchemy import SQLAlchemy\n",
        "from flask_ngrok import run_with_ngrok\n",
        "import joblib\n",
        "import nltk\n",
        "import re\n",
        "import string\n",
        "from pyngrok import ngrok"
      ],
      "metadata": {
        "id": "-jycXPAUrwr0"
      },
      "execution_count": 3,
      "outputs": []
    },
    {
      "cell_type": "code",
      "source": [
        "# Load trained Random Forest model\n",
        "model_path = \"/content/random_forest_issue_classifier.pkl\"\n",
        "model = joblib.load(model_path)\n",
        "\n",
        "# Initialize Flask app\n",
        "app = Flask(__name__)\n",
        "run_with_ngrok(app)  # Enable ngrok\n",
        "\n",
        "# Database Configuration (SQLite)\n",
        "app.config[\"SQLALCHEMY_DATABASE_URI\"] = \"sqlite:///predictions.db\"\n",
        "app.config[\"SQLALCHEMY_TRACK_MODIFICATIONS\"] = False\n",
        "db = SQLAlchemy(app)"
      ],
      "metadata": {
        "id": "FWVKFBRbrzyU"
      },
      "execution_count": 4,
      "outputs": []
    },
    {
      "cell_type": "code",
      "source": [
        "# Define database model\n",
        "class Prediction(db.Model):\n",
        "    id = db.Column(db.Integer, primary_key=True)\n",
        "    issue_text = db.Column(db.String(500), nullable=False)\n",
        "    predicted_label = db.Column(db.String(100), nullable=False)\n",
        "    correct_label = db.Column(db.String(100), nullable=True)\n",
        "\n",
        "# Create database\n",
        "with app.app_context():\n",
        "    db.create_all()"
      ],
      "metadata": {
        "id": "IoNLvyu7r6Xt"
      },
      "execution_count": 5,
      "outputs": []
    },
    {
      "cell_type": "code",
      "source": [
        "# Root endpoint to check if API is running\n",
        "@app.route(\"/\")\n",
        "def home():\n",
        "    return \"Flask API is running with ngrok!\"\n",
        "\n",
        "# ✅ **Text Preprocessing Function**\n",
        "def preprocess_text(text):\n",
        "    text = text.lower()  # Convert to lowercase\n",
        "    text = re.sub(r'\\d+', '', text)  # Remove numbers\n",
        "    text = text.translate(str.maketrans('', '', string.punctuation))  # Remove punctuation\n",
        "    text = text.strip()  # Remove extra spaces\n",
        "    return text"
      ],
      "metadata": {
        "id": "eqcRnCr_r-Jj"
      },
      "execution_count": 6,
      "outputs": []
    },
    {
      "cell_type": "code",
      "source": [
        "# ✅ **Predict Endpoint**\n",
        "@app.route('/api/predict', methods=['POST'])\n",
        "def predict():\n",
        "    try:\n",
        "        data = request.json\n",
        "        issue_text = data.get(\"text\")\n",
        "\n",
        "        # Preprocess the text\n",
        "        processed_text = preprocess_text(issue_text)\n",
        "\n",
        "        # Make a prediction\n",
        "        predicted_label = model.predict([processed_text])[0]\n",
        "\n",
        "        # Store prediction in the database\n",
        "        new_prediction = Prediction(issue_text=issue_text, predicted_label=predicted_label)\n",
        "        db.session.add(new_prediction)\n",
        "        db.session.commit()\n",
        "\n",
        "        return jsonify({\"id\": new_prediction.id, \"predicted_label\": predicted_label})\n",
        "\n",
        "    except Exception as e:\n",
        "        return jsonify({\"error\": str(e)})"
      ],
      "metadata": {
        "id": "X2BNr-_4sFH8"
      },
      "execution_count": 7,
      "outputs": []
    },
    {
      "cell_type": "code",
      "source": [
        "# ✅ **Correct Endpoint**\n",
        "@app.route('/api/correct', methods=['POST'])\n",
        "def correct():\n",
        "    try:\n",
        "        data = request.json\n",
        "        prediction_id = data.get(\"id\")\n",
        "        correct_label = data.get(\"correct_label\")\n",
        "\n",
        "        # Find the prediction entry in the database\n",
        "        prediction_entry = Prediction.query.get(prediction_id)\n",
        "\n",
        "        if not prediction_entry:\n",
        "            return jsonify({\"error\": \"Prediction ID not found\"}), 404\n",
        "\n",
        "        # Update the correct label\n",
        "        prediction_entry.correct_label = correct_label\n",
        "        db.session.commit()\n",
        "\n",
        "        return jsonify({\"message\": \"Correction saved successfully\"})\n",
        "\n",
        "    except Exception as e:\n",
        "        return jsonify({\"error\": str(e)})\n",
        "\n"
      ],
      "metadata": {
        "id": "m3QVrCYjro3F"
      },
      "execution_count": 8,
      "outputs": []
    },
    {
      "cell_type": "code",
      "source": [
        "if __name__ == \"__main__\":\n",
        "    app.run()"
      ],
      "metadata": {
        "id": "1p47jCK7EHiu"
      },
      "execution_count": null,
      "outputs": []
    }
  ]
}